{
 "cells": [
  {
   "cell_type": "code",
   "execution_count": 1,
   "metadata": {},
   "outputs": [
    {
     "name": "stdout",
     "output_type": "stream",
     "text": [
      "> ticker: FOUR\n",
      "> sector: financials\n",
      "> eps_growth_0: 30.12\n",
      "> eps_growth_1: 29.23\n",
      "> eps_growth_2: 25.0\n",
      "> eps_growth_3: None\n",
      "> pe_fwd: 18.87\n",
      "> peg_ratio_sector: 3.35\n",
      "> price_current: None\n"
     ]
    }
   ],
   "source": [
    "from sconf import Config\n",
    "from utils import pprint_config\n",
    "import copy\n",
    "import numpy as np\n",
    "\n",
    "format = \"format.yaml\"\n",
    "format = Config(format)\n",
    "pprint_config(format)"
   ]
  },
  {
   "cell_type": "code",
   "execution_count": 2,
   "metadata": {},
   "outputs": [],
   "source": [
    "data = copy.deepcopy(format)"
   ]
  },
  {
   "cell_type": "code",
   "execution_count": 3,
   "metadata": {},
   "outputs": [],
   "source": [
    "import yfinance as yf\n",
    "\n",
    "class calcTargetPrice(object):\n",
    "    def __init__(self, data):\n",
    "        self.data = data\n",
    "        self.yf_data = yf.Ticker(self.data.ticker)\n",
    "        if not data.price_current:\n",
    "            self._get_current_price()\n",
    "        self._get_52high()\n",
    "        self._calc_eps_avg()\n",
    "        self._calc_peg_ratio()\n",
    "        self._calc_growth_value()\n",
    "        self._calc_dec_from_52high()\n",
    "        self._calc_reasonable_price()\n",
    "        self._calc_target_prices()\n",
    "        \n",
    "    def pprint_data(self):\n",
    "        pprint_config(self.data)\n",
    "    \n",
    "    def _get_current_price(self):\n",
    "        self.data.price_current = self.yf_data.info[\"regularMarketPreviousClose\"]\n",
    "        \n",
    "    def _get_52high(self):\n",
    "        self.data.price_52high = self.yf_data.info[\"fiftyTwoWeekHigh\"]\n",
    "        \n",
    "    def _calc_eps_avg(self):\n",
    "        val_eps_growth = list()\n",
    "        for key, value in self.data.items():\n",
    "            if \"eps\" in key and \"avg\" not in key and value:\n",
    "                val_eps_growth.append(value)\n",
    "        self.data.eps_growth_avg = np.mean(val_eps_growth)\n",
    "    \n",
    "    def _calc_peg_ratio(self):\n",
    "        self.data.peg_ratio = self.data.pe_fwd / self.data.eps_growth_avg\n",
    "        \n",
    "    def _calc_growth_value(self):\n",
    "        if self.data.eps_growth_avg > 0:\n",
    "            self.data.growth_value = self.data.eps_growth_avg * self.data.peg_ratio_sector\n",
    "        else:\n",
    "            self.data.growth_value = (self.data.pe_fwd + (self.data.pe_fwd * self.data.eps_growth_avg)) / 100\n",
    "\n",
    "    def _calc_dec_from_52high(self):\n",
    "        self.data.dec_from_52high = (self.data.price_current / self.data.price_52high) - 1\n",
    "        \n",
    "    def _calc_reasonable_price(self):\n",
    "        self.data.price_reasonable = self.data.price_current * (self.data.growth_value / self.data.pe_fwd)\n",
    "        \n",
    "    def _calc_target_prices(self):\n",
    "        if self.data.eps_growth_1:\n",
    "            self.data.price_target_1 = self.data.price_reasonable * (1 + self.data.eps_growth_1/100)\n",
    "        if self.data.eps_growth_1 and self.data.eps_growth_2:\n",
    "            self.data.price_target_2 = self.data.price_reasonable * (1 + self.data.eps_growth_1/100 + self.data.eps_growth_2/100)\n",
    "        if self.data.eps_growth_1 and self.data.eps_growth_2 and self.data.eps_growth_3:\n",
    "            self.data.price_target_3 = self.data.price_reasonable * (1 + self.data.eps_growth_1 + self.data.eps_growth_2 + self.data.eps_growth_3)"
   ]
  },
  {
   "cell_type": "code",
   "execution_count": 4,
   "metadata": {},
   "outputs": [],
   "source": [
    "calc = calcTargetPrice(data=data)"
   ]
  },
  {
   "cell_type": "code",
   "execution_count": 5,
   "metadata": {},
   "outputs": [
    {
     "name": "stdout",
     "output_type": "stream",
     "text": [
      "> ticker: FOUR\n",
      "> sector: financials\n",
      "> eps_growth_0: 30.12\n",
      "> eps_growth_1: 29.23\n",
      "> eps_growth_2: 25.0\n",
      "> eps_growth_3: None\n",
      "> pe_fwd: 18.87\n",
      "> peg_ratio_sector: 3.35\n",
      "> price_current: 69.04\n",
      "> price_52high: 92.3\n",
      "> eps_growth_avg: 28.116666666666664\n",
      "> peg_ratio: 0.67113218731476\n",
      "> growth_value: 94.19083333333333\n",
      "> dec_from_52high: -0.2520043336944745\n",
      "> price_reasonable: 344.61765412471294\n",
      "> price_target_1: 445.34939442536654\n",
      "> price_target_2: 531.5038079565447\n"
     ]
    }
   ],
   "source": [
    "calc.pprint_data()"
   ]
  },
  {
   "cell_type": "code",
   "execution_count": null,
   "metadata": {},
   "outputs": [],
   "source": []
  }
 ],
 "metadata": {
  "kernelspec": {
   "display_name": "ds",
   "language": "python",
   "name": "python3"
  },
  "language_info": {
   "codemirror_mode": {
    "name": "ipython",
    "version": 3
   },
   "file_extension": ".py",
   "mimetype": "text/x-python",
   "name": "python",
   "nbconvert_exporter": "python",
   "pygments_lexer": "ipython3",
   "version": "3.12.4"
  }
 },
 "nbformat": 4,
 "nbformat_minor": 2
}
